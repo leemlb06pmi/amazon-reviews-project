{
 "cells": [
  {
   "cell_type": "code",
   "execution_count": 2,
   "id": "68c27da5",
   "metadata": {},
   "outputs": [],
   "source": [
    "import pyspark\n",
    "from pyspark.sql import SparkSession\n",
    "import pandas as pd\n",
    "from pyspark.sql import types\n",
    "from kaggle.api.kaggle_api_extended import KaggleApi"
   ]
  },
  {
   "cell_type": "code",
   "execution_count": 3,
   "id": "20e83c39",
   "metadata": {},
   "outputs": [
    {
     "name": "stderr",
     "output_type": "stream",
     "text": [
      "WARNING: An illegal reflective access operation has occurred\n",
      "WARNING: Illegal reflective access by org.apache.spark.unsafe.Platform (file:/home/mherr/spark/spark-3.1.3-bin-hadoop3.2/jars/spark-unsafe_2.12-3.1.3.jar) to constructor java.nio.DirectByteBuffer(long,int)\n",
      "WARNING: Please consider reporting this to the maintainers of org.apache.spark.unsafe.Platform\n",
      "WARNING: Use --illegal-access=warn to enable warnings of further illegal reflective access operations\n",
      "WARNING: All illegal access operations will be denied in a future release\n",
      "22/09/28 14:37:09 WARN NativeCodeLoader: Unable to load native-hadoop library for your platform... using builtin-java classes where applicable\n",
      "Using Spark's default log4j profile: org/apache/spark/log4j-defaults.properties\n",
      "Setting default log level to \"WARN\".\n",
      "To adjust logging level use sc.setLogLevel(newLevel). For SparkR, use setLogLevel(newLevel).\n"
     ]
    }
   ],
   "source": [
    "api = KaggleApi()\n",
    "api.authenticate()\n",
    "\n",
    "spark = SparkSession.builder \\\n",
    "    .master(\"local[*]\") \\\n",
    "    .appName('test') \\\n",
    "    .getOrCreate()"
   ]
  },
  {
   "cell_type": "code",
   "execution_count": 8,
   "id": "4717e30e",
   "metadata": {},
   "outputs": [
    {
     "data": {
      "text/plain": [
       "[amazon_reviews_us_Video_DVD_v1_00.tsv,\n",
       " amazon_reviews_us_Health_Personal_Care_v1_00.tsv,\n",
       " amazon_reviews_us_Mobile_Electronics_v1_00.tsv,\n",
       " amazon_reviews_us_Digital_Video_Download_v1_00.tsv,\n",
       " amazon_reviews_us_Toys_v1_00.tsv,\n",
       " amazon_reviews_us_Beauty_v1_00.tsv,\n",
       " amazon_reviews_us_Personal_Care_Appliances_v1_00.tsv,\n",
       " amazon_reviews_us_Tools_v1_00.tsv,\n",
       " amazon_reviews_us_Baby_v1_00.tsv,\n",
       " amazon_reviews_us_Music_v1_00.tsv,\n",
       " amazon_reviews_us_Software_v1_00.tsv,\n",
       " amazon_reviews_us_Electronics_v1_00.tsv,\n",
       " amazon_reviews_us_Gift_Card_v1_00.tsv,\n",
       " amazon_reviews_us_Office_Products_v1_00.tsv,\n",
       " amazon_reviews_us_PC_v1_00.tsv,\n",
       " amazon_reviews_us_Video_Games_v1_00.tsv,\n",
       " amazon_reviews_us_Mobile_Apps_v1_00.tsv,\n",
       " amazon_reviews_us_Apparel_v1_00.tsv,\n",
       " amazon_reviews_us_Video_v1_00.tsv,\n",
       " amazon_reviews_us_Shoes_v1_00.tsv,\n",
       " amazon_reviews_us_Digital_Music_Purchase_v1_00.tsv,\n",
       " amazon_reviews_us_Digital_Video_Games_v1_00.tsv,\n",
       " amazon_reviews_us_Major_Appliances_v1_00.tsv,\n",
       " amazon_reviews_us_Digital_Software_v1_00.tsv,\n",
       " amazon_reviews_us_Digital_Ebook_Purchase_v1_01.tsv,\n",
       " amazon_reviews_multilingual_US_v1_00.tsv,\n",
       " amazon_reviews_us_Furniture_v1_00.tsv,\n",
       " amazon_reviews_us_Musical_Instruments_v1_00.tsv,\n",
       " amazon_reviews_us_Grocery_v1_00.tsv,\n",
       " amazon_reviews_us_Camera_v1_00.tsv,\n",
       " amazon_reviews_us_Sports_v1_00.tsv,\n",
       " amazon_reviews_us_Wireless_v1_00.tsv,\n",
       " amazon_reviews_us_Books_v1_02.tsv,\n",
       " amazon_reviews_us_Automotive_v1_00.tsv,\n",
       " amazon_reviews_us_Outdoors_v1_00.tsv,\n",
       " amazon_reviews_us_Watches_v1_00.tsv,\n",
       " amazon_reviews_us_Pet_Products_v1_00.tsv]"
      ]
     },
     "execution_count": 8,
     "metadata": {},
     "output_type": "execute_result"
    }
   ],
   "source": [
    "ds = api.dataset_list(search=\"cynthiarempel\")[0]\n",
    "file_result = api.dataset_list_files(ds.ref)\n",
    "\n",
    "file_result.files"
   ]
  },
  {
   "cell_type": "code",
   "execution_count": 15,
   "id": "ebcdbe21",
   "metadata": {},
   "outputs": [
    {
     "data": {
      "text/plain": [
       "True"
      ]
     },
     "execution_count": 15,
     "metadata": {},
     "output_type": "execute_result"
    }
   ],
   "source": [
    "api.dataset_download_file(f\"{ds.ref}\", \"amazon_reviews_us_Furniture_v1_00.tsv\")"
   ]
  },
  {
   "cell_type": "code",
   "execution_count": 20,
   "id": "0384569b",
   "metadata": {},
   "outputs": [
    {
     "name": "stdout",
     "output_type": "stream",
     "text": [
      "Archive:  amazon_reviews_us_Furniture_v1_00.tsv.zip\n",
      "  inflating: amazon_reviews_us_Furniture_v1_00.tsv  \n"
     ]
    }
   ],
   "source": [
    "!unzip amazon_reviews_us_Furniture_v1_00.tsv.zip"
   ]
  },
  {
   "cell_type": "code",
   "execution_count": 21,
   "id": "4b8c942c",
   "metadata": {},
   "outputs": [
    {
     "name": "stdout",
     "output_type": "stream",
     "text": [
      "marketplace\tcustomer_id\treview_id\tproduct_id\tproduct_parent\tproduct_title\tproduct_category\tstar_rating\thelpful_votes\ttotal_votes\tvine\tverified_purchase\treview_headline\treview_body\treview_date\r\n",
      "US\t24509695\tR3VR960AHLFKDV\tB004HB5E0E\t488241329\tShoal Creek Computer Desk\tFurniture\t4\t0\t0\tN\tY\t... desk is very study and it i has a beautiful finish, I think that it a just a ...\tThis desk is very study and it i has  a beautiful finish,  I think that it a just a little  pricey for the size.\t2015-08-31\r\n",
      "US\t34731776\tR16LGVMFKIUT0G\tB0042TNMMS\t205864445\tDorel Home Products Delaney Large Rectangular Ottoman\tFurniture\t5\t0\t0\tN\tY\tFive Stars\tGreat item\t2015-08-31\r\n",
      "US\t1272331\tR1AIMEEPYHMOE4\tB0030MPBZ4\t124663823\tBathroom Vanity Table Jewelry Makeup Desk Bench Drawer Hair Dressing Organizer\tFurniture\t5\t1\t1\tN\tY\tFive Stars\tPerfect fit for my bedroom, been wanting one since I was a little girl\t2015-08-31\r\n",
      "US\t45284262\tR1892CCSZWZ9SR\tB005G02ESA\t382367578\tSleep Master Ultima Comfort Memory Foam 6 Inch Mattress\tFurniture\t3\t0\t0\tN\tY\tGood enough\tWe use this on a trundle bed.  So, it does not get that much use.  This was a much better choice than getting a low end spring mattress for the same price.  I do not think I would use this on anything other than a trundle.\t2015-08-31\r\n",
      "US\t30003523\tR285P679YWVKD1\tB005JS8AUA\t309497463\t1 1/4\" GashGuards: Deluxe Rubberized Plastic Bed Frame End Caps, Set of 2\tFurniture\t3\t0\t0\tN\tN\tGash Gards for daybed\tThe product is fine...just seemed like it took awhile in the mail for something small you could throw in an envelope and mail.  Not unhappy just moderately satisfied.\t2015-08-31\r\n",
      "US\t18311821\tRLB33HJBXHZHU\tB00AVUQQGQ\t574537906\tSerta Bonded Leather Big & Tall Executive Chair\tFurniture\t5\t0\t0\tN\tY\tFive Stars\tLove this product, amazing delivery, thank you\t2015-08-31\r\n",
      "US\t42943632\tR1VGTZ94DBAD6A\tB00CFY20GQ\t407473883\tPrepac Shoe Storage Cubbie Bench\tFurniture\t5\t2\t2\tN\tY\tI love this bench\tI love this bench, had one in Black for over five years, and moved it more than 5 times to different houses after a few chips and broken pieces, I decided to buy the White one as it matches our current home decor better, plus it is much easier to locate shoes especially black ones! the black cubbie bench was too dark, and most of our shoes blended in and hard to see. This is perfect. Easy to put together. I painted the back white as well, as it was going in an area with the all sides shown.\t2015-08-31\r\n",
      "US\t43157304\tR168KF82ICSOHD\tB00FKC48QA\t435120460\tHomCom PU Leather Storage Bench Ottoman w/ 4 Trays - Brown\tFurniture\t5\t0\t0\tN\tY\tGreat storage capacity\tHave had this for over a year.  Very well made and durable!  Great storage capacity.\t2015-08-31\r\n",
      "US\t51918480\tR20DIYIJ0OCMOG\tB00N9IAL9K\t356495985\tFolding Step Stool\tFurniture\t5\t0\t0\tN\tY\tThis is the best step stool I have ever used\tThis is the best step stool I have ever used.  So compact when collapsed so is very easy to store.. no hidden latches.  Have already recommended to friends.\t2015-08-31\r\n"
     ]
    }
   ],
   "source": [
    "!head amazon_reviews_us_Furniture_v1_00.tsv"
   ]
  },
  {
   "cell_type": "code",
   "execution_count": 32,
   "id": "e96e7390",
   "metadata": {},
   "outputs": [],
   "source": [
    "df_raw = pd.read_csv('amazon_reviews_us_Furniture_v1_00.tsv.zip', sep='\\t', header=0, nrows=1000)"
   ]
  },
  {
   "cell_type": "code",
   "execution_count": 33,
   "id": "b08f3f65",
   "metadata": {},
   "outputs": [
    {
     "data": {
      "text/html": [
       "<div>\n",
       "<style scoped>\n",
       "    .dataframe tbody tr th:only-of-type {\n",
       "        vertical-align: middle;\n",
       "    }\n",
       "\n",
       "    .dataframe tbody tr th {\n",
       "        vertical-align: top;\n",
       "    }\n",
       "\n",
       "    .dataframe thead th {\n",
       "        text-align: right;\n",
       "    }\n",
       "</style>\n",
       "<table border=\"1\" class=\"dataframe\">\n",
       "  <thead>\n",
       "    <tr style=\"text-align: right;\">\n",
       "      <th></th>\n",
       "      <th>marketplace</th>\n",
       "      <th>customer_id</th>\n",
       "      <th>review_id</th>\n",
       "      <th>product_id</th>\n",
       "      <th>product_parent</th>\n",
       "      <th>product_title</th>\n",
       "      <th>product_category</th>\n",
       "      <th>star_rating</th>\n",
       "      <th>helpful_votes</th>\n",
       "      <th>total_votes</th>\n",
       "      <th>vine</th>\n",
       "      <th>verified_purchase</th>\n",
       "      <th>review_headline</th>\n",
       "      <th>review_body</th>\n",
       "      <th>review_date</th>\n",
       "    </tr>\n",
       "  </thead>\n",
       "  <tbody>\n",
       "    <tr>\n",
       "      <th>0</th>\n",
       "      <td>US</td>\n",
       "      <td>24509695</td>\n",
       "      <td>R3VR960AHLFKDV</td>\n",
       "      <td>B004HB5E0E</td>\n",
       "      <td>488241329</td>\n",
       "      <td>Shoal Creek Computer Desk</td>\n",
       "      <td>Furniture</td>\n",
       "      <td>4</td>\n",
       "      <td>0</td>\n",
       "      <td>0</td>\n",
       "      <td>N</td>\n",
       "      <td>Y</td>\n",
       "      <td>... desk is very study and it i has a beautifu...</td>\n",
       "      <td>This desk is very study and it i has  a beauti...</td>\n",
       "      <td>2015-08-31</td>\n",
       "    </tr>\n",
       "    <tr>\n",
       "      <th>1</th>\n",
       "      <td>US</td>\n",
       "      <td>34731776</td>\n",
       "      <td>R16LGVMFKIUT0G</td>\n",
       "      <td>B0042TNMMS</td>\n",
       "      <td>205864445</td>\n",
       "      <td>Dorel Home Products Delaney Large Rectangular ...</td>\n",
       "      <td>Furniture</td>\n",
       "      <td>5</td>\n",
       "      <td>0</td>\n",
       "      <td>0</td>\n",
       "      <td>N</td>\n",
       "      <td>Y</td>\n",
       "      <td>Five Stars</td>\n",
       "      <td>Great item</td>\n",
       "      <td>2015-08-31</td>\n",
       "    </tr>\n",
       "    <tr>\n",
       "      <th>2</th>\n",
       "      <td>US</td>\n",
       "      <td>1272331</td>\n",
       "      <td>R1AIMEEPYHMOE4</td>\n",
       "      <td>B0030MPBZ4</td>\n",
       "      <td>124663823</td>\n",
       "      <td>Bathroom Vanity Table Jewelry Makeup Desk Benc...</td>\n",
       "      <td>Furniture</td>\n",
       "      <td>5</td>\n",
       "      <td>1</td>\n",
       "      <td>1</td>\n",
       "      <td>N</td>\n",
       "      <td>Y</td>\n",
       "      <td>Five Stars</td>\n",
       "      <td>Perfect fit for my bedroom, been wanting one s...</td>\n",
       "      <td>2015-08-31</td>\n",
       "    </tr>\n",
       "    <tr>\n",
       "      <th>3</th>\n",
       "      <td>US</td>\n",
       "      <td>45284262</td>\n",
       "      <td>R1892CCSZWZ9SR</td>\n",
       "      <td>B005G02ESA</td>\n",
       "      <td>382367578</td>\n",
       "      <td>Sleep Master Ultima Comfort Memory Foam 6 Inch...</td>\n",
       "      <td>Furniture</td>\n",
       "      <td>3</td>\n",
       "      <td>0</td>\n",
       "      <td>0</td>\n",
       "      <td>N</td>\n",
       "      <td>Y</td>\n",
       "      <td>Good enough</td>\n",
       "      <td>We use this on a trundle bed.  So, it does not...</td>\n",
       "      <td>2015-08-31</td>\n",
       "    </tr>\n",
       "    <tr>\n",
       "      <th>4</th>\n",
       "      <td>US</td>\n",
       "      <td>30003523</td>\n",
       "      <td>R285P679YWVKD1</td>\n",
       "      <td>B005JS8AUA</td>\n",
       "      <td>309497463</td>\n",
       "      <td>1 1/4\" GashGuards: Deluxe Rubberized Plastic B...</td>\n",
       "      <td>Furniture</td>\n",
       "      <td>3</td>\n",
       "      <td>0</td>\n",
       "      <td>0</td>\n",
       "      <td>N</td>\n",
       "      <td>N</td>\n",
       "      <td>Gash Gards for daybed</td>\n",
       "      <td>The product is fine...just seemed like it took...</td>\n",
       "      <td>2015-08-31</td>\n",
       "    </tr>\n",
       "    <tr>\n",
       "      <th>5</th>\n",
       "      <td>US</td>\n",
       "      <td>18311821</td>\n",
       "      <td>RLB33HJBXHZHU</td>\n",
       "      <td>B00AVUQQGQ</td>\n",
       "      <td>574537906</td>\n",
       "      <td>Serta Bonded Leather Big &amp; Tall Executive Chair</td>\n",
       "      <td>Furniture</td>\n",
       "      <td>5</td>\n",
       "      <td>0</td>\n",
       "      <td>0</td>\n",
       "      <td>N</td>\n",
       "      <td>Y</td>\n",
       "      <td>Five Stars</td>\n",
       "      <td>Love this product, amazing delivery, thank you</td>\n",
       "      <td>2015-08-31</td>\n",
       "    </tr>\n",
       "    <tr>\n",
       "      <th>6</th>\n",
       "      <td>US</td>\n",
       "      <td>42943632</td>\n",
       "      <td>R1VGTZ94DBAD6A</td>\n",
       "      <td>B00CFY20GQ</td>\n",
       "      <td>407473883</td>\n",
       "      <td>Prepac Shoe Storage Cubbie Bench</td>\n",
       "      <td>Furniture</td>\n",
       "      <td>5</td>\n",
       "      <td>2</td>\n",
       "      <td>2</td>\n",
       "      <td>N</td>\n",
       "      <td>Y</td>\n",
       "      <td>I love this bench</td>\n",
       "      <td>I love this bench, had one in Black for over f...</td>\n",
       "      <td>2015-08-31</td>\n",
       "    </tr>\n",
       "    <tr>\n",
       "      <th>7</th>\n",
       "      <td>US</td>\n",
       "      <td>43157304</td>\n",
       "      <td>R168KF82ICSOHD</td>\n",
       "      <td>B00FKC48QA</td>\n",
       "      <td>435120460</td>\n",
       "      <td>HomCom PU Leather Storage Bench Ottoman w/ 4 T...</td>\n",
       "      <td>Furniture</td>\n",
       "      <td>5</td>\n",
       "      <td>0</td>\n",
       "      <td>0</td>\n",
       "      <td>N</td>\n",
       "      <td>Y</td>\n",
       "      <td>Great storage capacity</td>\n",
       "      <td>Have had this for over a year.  Very well made...</td>\n",
       "      <td>2015-08-31</td>\n",
       "    </tr>\n",
       "    <tr>\n",
       "      <th>8</th>\n",
       "      <td>US</td>\n",
       "      <td>51918480</td>\n",
       "      <td>R20DIYIJ0OCMOG</td>\n",
       "      <td>B00N9IAL9K</td>\n",
       "      <td>356495985</td>\n",
       "      <td>Folding Step Stool</td>\n",
       "      <td>Furniture</td>\n",
       "      <td>5</td>\n",
       "      <td>0</td>\n",
       "      <td>0</td>\n",
       "      <td>N</td>\n",
       "      <td>Y</td>\n",
       "      <td>This is the best step stool I have ever used</td>\n",
       "      <td>This is the best step stool I have ever used. ...</td>\n",
       "      <td>2015-08-31</td>\n",
       "    </tr>\n",
       "    <tr>\n",
       "      <th>9</th>\n",
       "      <td>US</td>\n",
       "      <td>14522766</td>\n",
       "      <td>RD46RNVOHNZSC</td>\n",
       "      <td>B001T4XU1C</td>\n",
       "      <td>243050228</td>\n",
       "      <td>Ace Bayou Adult Video Rocker</td>\n",
       "      <td>Furniture</td>\n",
       "      <td>5</td>\n",
       "      <td>0</td>\n",
       "      <td>0</td>\n",
       "      <td>N</td>\n",
       "      <td>Y</td>\n",
       "      <td>great for price!</td>\n",
       "      <td>my son loves it!</td>\n",
       "      <td>2015-08-31</td>\n",
       "    </tr>\n",
       "  </tbody>\n",
       "</table>\n",
       "</div>"
      ],
      "text/plain": [
       "  marketplace  customer_id       review_id  product_id  product_parent  \\\n",
       "0          US     24509695  R3VR960AHLFKDV  B004HB5E0E       488241329   \n",
       "1          US     34731776  R16LGVMFKIUT0G  B0042TNMMS       205864445   \n",
       "2          US      1272331  R1AIMEEPYHMOE4  B0030MPBZ4       124663823   \n",
       "3          US     45284262  R1892CCSZWZ9SR  B005G02ESA       382367578   \n",
       "4          US     30003523  R285P679YWVKD1  B005JS8AUA       309497463   \n",
       "5          US     18311821   RLB33HJBXHZHU  B00AVUQQGQ       574537906   \n",
       "6          US     42943632  R1VGTZ94DBAD6A  B00CFY20GQ       407473883   \n",
       "7          US     43157304  R168KF82ICSOHD  B00FKC48QA       435120460   \n",
       "8          US     51918480  R20DIYIJ0OCMOG  B00N9IAL9K       356495985   \n",
       "9          US     14522766   RD46RNVOHNZSC  B001T4XU1C       243050228   \n",
       "\n",
       "                                       product_title product_category  \\\n",
       "0                          Shoal Creek Computer Desk        Furniture   \n",
       "1  Dorel Home Products Delaney Large Rectangular ...        Furniture   \n",
       "2  Bathroom Vanity Table Jewelry Makeup Desk Benc...        Furniture   \n",
       "3  Sleep Master Ultima Comfort Memory Foam 6 Inch...        Furniture   \n",
       "4  1 1/4\" GashGuards: Deluxe Rubberized Plastic B...        Furniture   \n",
       "5    Serta Bonded Leather Big & Tall Executive Chair        Furniture   \n",
       "6                   Prepac Shoe Storage Cubbie Bench        Furniture   \n",
       "7  HomCom PU Leather Storage Bench Ottoman w/ 4 T...        Furniture   \n",
       "8                                 Folding Step Stool        Furniture   \n",
       "9                       Ace Bayou Adult Video Rocker        Furniture   \n",
       "\n",
       "   star_rating  helpful_votes  total_votes vine verified_purchase  \\\n",
       "0            4              0            0    N                 Y   \n",
       "1            5              0            0    N                 Y   \n",
       "2            5              1            1    N                 Y   \n",
       "3            3              0            0    N                 Y   \n",
       "4            3              0            0    N                 N   \n",
       "5            5              0            0    N                 Y   \n",
       "6            5              2            2    N                 Y   \n",
       "7            5              0            0    N                 Y   \n",
       "8            5              0            0    N                 Y   \n",
       "9            5              0            0    N                 Y   \n",
       "\n",
       "                                     review_headline  \\\n",
       "0  ... desk is very study and it i has a beautifu...   \n",
       "1                                         Five Stars   \n",
       "2                                         Five Stars   \n",
       "3                                        Good enough   \n",
       "4                              Gash Gards for daybed   \n",
       "5                                         Five Stars   \n",
       "6                                  I love this bench   \n",
       "7                             Great storage capacity   \n",
       "8       This is the best step stool I have ever used   \n",
       "9                                   great for price!   \n",
       "\n",
       "                                         review_body review_date  \n",
       "0  This desk is very study and it i has  a beauti...  2015-08-31  \n",
       "1                                         Great item  2015-08-31  \n",
       "2  Perfect fit for my bedroom, been wanting one s...  2015-08-31  \n",
       "3  We use this on a trundle bed.  So, it does not...  2015-08-31  \n",
       "4  The product is fine...just seemed like it took...  2015-08-31  \n",
       "5     Love this product, amazing delivery, thank you  2015-08-31  \n",
       "6  I love this bench, had one in Black for over f...  2015-08-31  \n",
       "7  Have had this for over a year.  Very well made...  2015-08-31  \n",
       "8  This is the best step stool I have ever used. ...  2015-08-31  \n",
       "9                                   my son loves it!  2015-08-31  "
      ]
     },
     "execution_count": 33,
     "metadata": {},
     "output_type": "execute_result"
    }
   ],
   "source": [
    "df_raw.head(10)"
   ]
  },
  {
   "cell_type": "code",
   "execution_count": 16,
   "id": "990818be",
   "metadata": {},
   "outputs": [
    {
     "ename": "AnalysisException",
     "evalue": "Path does not exist: file:/home/mherr/amazon-reviews-project/amazon_reviews_us_Furniture_v1_00.tsv",
     "output_type": "error",
     "traceback": [
      "\u001b[0;31m---------------------------------------------------------------------------\u001b[0m",
      "\u001b[0;31mAnalysisException\u001b[0m                         Traceback (most recent call last)",
      "Input \u001b[0;32mIn [16]\u001b[0m, in \u001b[0;36m<cell line: 1>\u001b[0;34m()\u001b[0m\n\u001b[0;32m----> 1\u001b[0m df \u001b[38;5;241m=\u001b[39m \u001b[43mspark\u001b[49m\u001b[43m\\\u001b[49m\n\u001b[1;32m      2\u001b[0m \u001b[43m    \u001b[49m\u001b[38;5;241;43m.\u001b[39;49m\u001b[43mread\u001b[49m\u001b[43m\\\u001b[49m\n\u001b[1;32m      3\u001b[0m \u001b[43m    \u001b[49m\u001b[38;5;241;43m.\u001b[39;49m\u001b[43moption\u001b[49m\u001b[43m(\u001b[49m\u001b[38;5;124;43m\"\u001b[39;49m\u001b[38;5;124;43msep\u001b[39;49m\u001b[38;5;124;43m\"\u001b[39;49m\u001b[43m,\u001b[49m\u001b[43m \u001b[49m\u001b[38;5;124;43m\"\u001b[39;49m\u001b[38;5;130;43;01m\\t\u001b[39;49;00m\u001b[38;5;124;43m\"\u001b[39;49m\u001b[43m)\u001b[49m\u001b[43m\\\u001b[49m\n\u001b[1;32m      4\u001b[0m \u001b[43m    \u001b[49m\u001b[38;5;241;43m.\u001b[39;49m\u001b[43mcsv\u001b[49m\u001b[43m(\u001b[49m\u001b[38;5;124;43m'\u001b[39;49m\u001b[38;5;124;43mamazon_reviews_us_Furniture_v1_00.tsv\u001b[39;49m\u001b[38;5;124;43m'\u001b[39;49m\u001b[43m)\u001b[49m\n",
      "File \u001b[0;32m~/anaconda3/lib/python3.9/site-packages/pyspark/sql/readwriter.py:737\u001b[0m, in \u001b[0;36mDataFrameReader.csv\u001b[0;34m(self, path, schema, sep, encoding, quote, escape, comment, header, inferSchema, ignoreLeadingWhiteSpace, ignoreTrailingWhiteSpace, nullValue, nanValue, positiveInf, negativeInf, dateFormat, timestampFormat, maxColumns, maxCharsPerColumn, maxMalformedLogPerPartition, mode, columnNameOfCorruptRecord, multiLine, charToEscapeQuoteEscaping, samplingRatio, enforceSchema, emptyValue, locale, lineSep, pathGlobFilter, recursiveFileLookup, modifiedBefore, modifiedAfter, unescapedQuoteHandling)\u001b[0m\n\u001b[1;32m    735\u001b[0m     path \u001b[38;5;241m=\u001b[39m [path]\n\u001b[1;32m    736\u001b[0m \u001b[38;5;28;01mif\u001b[39;00m \u001b[38;5;28mtype\u001b[39m(path) \u001b[38;5;241m==\u001b[39m \u001b[38;5;28mlist\u001b[39m:\n\u001b[0;32m--> 737\u001b[0m     \u001b[38;5;28;01mreturn\u001b[39;00m \u001b[38;5;28mself\u001b[39m\u001b[38;5;241m.\u001b[39m_df(\u001b[38;5;28;43mself\u001b[39;49m\u001b[38;5;241;43m.\u001b[39;49m\u001b[43m_jreader\u001b[49m\u001b[38;5;241;43m.\u001b[39;49m\u001b[43mcsv\u001b[49m\u001b[43m(\u001b[49m\u001b[38;5;28;43mself\u001b[39;49m\u001b[38;5;241;43m.\u001b[39;49m\u001b[43m_spark\u001b[49m\u001b[38;5;241;43m.\u001b[39;49m\u001b[43m_sc\u001b[49m\u001b[38;5;241;43m.\u001b[39;49m\u001b[43m_jvm\u001b[49m\u001b[38;5;241;43m.\u001b[39;49m\u001b[43mPythonUtils\u001b[49m\u001b[38;5;241;43m.\u001b[39;49m\u001b[43mtoSeq\u001b[49m\u001b[43m(\u001b[49m\u001b[43mpath\u001b[49m\u001b[43m)\u001b[49m\u001b[43m)\u001b[49m)\n\u001b[1;32m    738\u001b[0m \u001b[38;5;28;01melif\u001b[39;00m \u001b[38;5;28misinstance\u001b[39m(path, RDD):\n\u001b[1;32m    739\u001b[0m     \u001b[38;5;28;01mdef\u001b[39;00m \u001b[38;5;21mfunc\u001b[39m(iterator):\n",
      "File \u001b[0;32m~/anaconda3/lib/python3.9/site-packages/py4j/java_gateway.py:1304\u001b[0m, in \u001b[0;36mJavaMember.__call__\u001b[0;34m(self, *args)\u001b[0m\n\u001b[1;32m   1298\u001b[0m command \u001b[38;5;241m=\u001b[39m proto\u001b[38;5;241m.\u001b[39mCALL_COMMAND_NAME \u001b[38;5;241m+\u001b[39m\\\n\u001b[1;32m   1299\u001b[0m     \u001b[38;5;28mself\u001b[39m\u001b[38;5;241m.\u001b[39mcommand_header \u001b[38;5;241m+\u001b[39m\\\n\u001b[1;32m   1300\u001b[0m     args_command \u001b[38;5;241m+\u001b[39m\\\n\u001b[1;32m   1301\u001b[0m     proto\u001b[38;5;241m.\u001b[39mEND_COMMAND_PART\n\u001b[1;32m   1303\u001b[0m answer \u001b[38;5;241m=\u001b[39m \u001b[38;5;28mself\u001b[39m\u001b[38;5;241m.\u001b[39mgateway_client\u001b[38;5;241m.\u001b[39msend_command(command)\n\u001b[0;32m-> 1304\u001b[0m return_value \u001b[38;5;241m=\u001b[39m \u001b[43mget_return_value\u001b[49m\u001b[43m(\u001b[49m\n\u001b[1;32m   1305\u001b[0m \u001b[43m    \u001b[49m\u001b[43manswer\u001b[49m\u001b[43m,\u001b[49m\u001b[43m \u001b[49m\u001b[38;5;28;43mself\u001b[39;49m\u001b[38;5;241;43m.\u001b[39;49m\u001b[43mgateway_client\u001b[49m\u001b[43m,\u001b[49m\u001b[43m \u001b[49m\u001b[38;5;28;43mself\u001b[39;49m\u001b[38;5;241;43m.\u001b[39;49m\u001b[43mtarget_id\u001b[49m\u001b[43m,\u001b[49m\u001b[43m \u001b[49m\u001b[38;5;28;43mself\u001b[39;49m\u001b[38;5;241;43m.\u001b[39;49m\u001b[43mname\u001b[49m\u001b[43m)\u001b[49m\n\u001b[1;32m   1307\u001b[0m \u001b[38;5;28;01mfor\u001b[39;00m temp_arg \u001b[38;5;129;01min\u001b[39;00m temp_args:\n\u001b[1;32m   1308\u001b[0m     temp_arg\u001b[38;5;241m.\u001b[39m_detach()\n",
      "File \u001b[0;32m~/anaconda3/lib/python3.9/site-packages/pyspark/sql/utils.py:117\u001b[0m, in \u001b[0;36mcapture_sql_exception.<locals>.deco\u001b[0;34m(*a, **kw)\u001b[0m\n\u001b[1;32m    113\u001b[0m converted \u001b[38;5;241m=\u001b[39m convert_exception(e\u001b[38;5;241m.\u001b[39mjava_exception)\n\u001b[1;32m    114\u001b[0m \u001b[38;5;28;01mif\u001b[39;00m \u001b[38;5;129;01mnot\u001b[39;00m \u001b[38;5;28misinstance\u001b[39m(converted, UnknownException):\n\u001b[1;32m    115\u001b[0m     \u001b[38;5;66;03m# Hide where the exception came from that shows a non-Pythonic\u001b[39;00m\n\u001b[1;32m    116\u001b[0m     \u001b[38;5;66;03m# JVM exception message.\u001b[39;00m\n\u001b[0;32m--> 117\u001b[0m     \u001b[38;5;28;01mraise\u001b[39;00m converted \u001b[38;5;28;01mfrom\u001b[39;00m \u001b[38;5;28mNone\u001b[39m\n\u001b[1;32m    118\u001b[0m \u001b[38;5;28;01melse\u001b[39;00m:\n\u001b[1;32m    119\u001b[0m     \u001b[38;5;28;01mraise\u001b[39;00m\n",
      "\u001b[0;31mAnalysisException\u001b[0m: Path does not exist: file:/home/mherr/amazon-reviews-project/amazon_reviews_us_Furniture_v1_00.tsv"
     ]
    }
   ],
   "source": [
    "df = spark\\\n",
    "    .read\\\n",
    "    .option(\"sep\", \"\\t\")\\\n",
    "    .csv('amazon_reviews_us_Furniture_v1_00.tsv')"
   ]
  },
  {
   "cell_type": "code",
   "execution_count": 11,
   "id": "3e2a38c4",
   "metadata": {},
   "outputs": [
    {
     "data": {
      "text/plain": [
       "<bound method DataFrame.show of DataFrame[_c0: string]>"
      ]
     },
     "execution_count": 11,
     "metadata": {},
     "output_type": "execute_result"
    }
   ],
   "source": [
    "df.show"
   ]
  },
  {
   "cell_type": "code",
   "execution_count": 12,
   "id": "a38c41e8",
   "metadata": {},
   "outputs": [
    {
     "name": "stdout",
     "output_type": "stream",
     "text": [
      "+--------------------+\n",
      "|                 _c0|\n",
      "+--------------------+\n",
      "|PK\u0003\u0004-\u0000\u0000\u0000\b\u0000n��R\bZ+...|\n",
      "|�T�\u0019\"$m�\u0004n;\\���8�...|\n",
      "|��Ϳ��ҿ��������~z�...|\n",
      "|Ls�N�ɇ�������?�Kñl��|\n",
      "|/\\\u001b��z%�.�\u0002ch\u0007��]...|\n",
      "|/\b��q�J�y]g�¼��Y\u001f...|\n",
      "|�ƻYo�3\u001a0�ߥi��sl�Y...|\n",
      "|�Q���f%[��]:$\u0007�h�...|\n",
      "|��-��ԣ�W}���#Q�ɾ�...|\n",
      "|            9��+z$�6|\n",
      "|&���Pl���W�\u001e",
      "�pN��...|\n",
      "|}���g��ц�\u001d",
      "�p6��m�...|\n",
      "|    �}�\\@\\��^��I�'k�|\n",
      "|�&��D�Ѡ� p�ȧ��\u000f݉\u001b...|\n",
      "|l���\u0018��1���f�c9{ݮ...|\n",
      "|���WU�2���\u001faz:mox...|\n",
      "|         s\u0004��=��KyiT|\n",
      "|�W> ;`�\u000b",
      "�.Y-�o�9�...|\n",
      "|ȕ���K\u0007-ϠJ�\b<`:'\u001d",
      "�...|\n",
      "|  ��{F����S2�a�����p|\n",
      "+--------------------+\n",
      "only showing top 20 rows\n",
      "\n"
     ]
    }
   ],
   "source": [
    "df.show()"
   ]
  },
  {
   "cell_type": "code",
   "execution_count": null,
   "id": "82b4ef1a",
   "metadata": {},
   "outputs": [],
   "source": []
  }
 ],
 "metadata": {
  "kernelspec": {
   "display_name": "Python 3 (ipykernel)",
   "language": "python",
   "name": "python3"
  },
  "language_info": {
   "codemirror_mode": {
    "name": "ipython",
    "version": 3
   },
   "file_extension": ".py",
   "mimetype": "text/x-python",
   "name": "python",
   "nbconvert_exporter": "python",
   "pygments_lexer": "ipython3",
   "version": "3.9.12"
  }
 },
 "nbformat": 4,
 "nbformat_minor": 5
}
