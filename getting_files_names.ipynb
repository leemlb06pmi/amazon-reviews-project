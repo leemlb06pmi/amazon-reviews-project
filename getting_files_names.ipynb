{
 "cells": [
  {
   "cell_type": "code",
   "execution_count": 1,
   "id": "69ffcba1",
   "metadata": {},
   "outputs": [],
   "source": [
    "import pandas as pd"
   ]
  },
  {
   "cell_type": "code",
   "execution_count": 72,
   "id": "24273389",
   "metadata": {},
   "outputs": [],
   "source": [
    "df = pd.read_csv('files.csv')"
   ]
  },
  {
   "cell_type": "code",
   "execution_count": 26,
   "id": "7fa359bc",
   "metadata": {},
   "outputs": [
    {
     "name": "stdout",
     "output_type": "stream",
     "text": [
      "name\n"
     ]
    }
   ],
   "source": [
    "print(df.columns.values[0])"
   ]
  },
  {
   "cell_type": "code",
   "execution_count": 27,
   "id": "6aed8814",
   "metadata": {},
   "outputs": [],
   "source": [
    "names = df[\"name\"]"
   ]
  },
  {
   "cell_type": "code",
   "execution_count": 29,
   "id": "9e741b79",
   "metadata": {},
   "outputs": [
    {
     "data": {
      "text/plain": [
       "0                    amazon_reviews_us_Video_v1_00.tsv\n",
       "1       amazon_reviews_us_Mobile_Electronics_v1_00.tsv\n",
       "2             amazon_reviews_multilingual_US_v1_00.tsv\n",
       "3    amazon_reviews_us_Personal_Care_Appliances_v1_...\n",
       "4              amazon_reviews_us_Electronics_v1_00.tsv\n",
       "Name: name, dtype: object"
      ]
     },
     "execution_count": 29,
     "metadata": {},
     "output_type": "execute_result"
    }
   ],
   "source": [
    "names.head()"
   ]
  },
  {
   "cell_type": "code",
   "execution_count": 55,
   "id": "ef093605",
   "metadata": {},
   "outputs": [
    {
     "data": {
      "text/plain": [
       "'amazon_reviews_us_Video_v1_00.tsv'"
      ]
     },
     "execution_count": 55,
     "metadata": {},
     "output_type": "execute_result"
    }
   ],
   "source": [
    "names[0]"
   ]
  },
  {
   "cell_type": "code",
   "execution_count": 56,
   "id": "23129ff6",
   "metadata": {},
   "outputs": [],
   "source": [
    "names.to_csv('file_names.csv', header=False, index=False)"
   ]
  },
  {
   "cell_type": "code",
   "execution_count": 57,
   "id": "dba12867",
   "metadata": {},
   "outputs": [],
   "source": [
    "df_check = pd.read_csv('file_names.csv', header=None)"
   ]
  },
  {
   "cell_type": "code",
   "execution_count": 81,
   "id": "282a1273",
   "metadata": {},
   "outputs": [],
   "source": [
    "list = df_check[0]"
   ]
  },
  {
   "cell_type": "code",
   "execution_count": 84,
   "id": "4001cca6",
   "metadata": {},
   "outputs": [
    {
     "data": {
      "text/plain": [
       "'amazon_reviews_us_Video_v1_00.tsv'"
      ]
     },
     "execution_count": 84,
     "metadata": {},
     "output_type": "execute_result"
    }
   ],
   "source": [
    "list[0]"
   ]
  },
  {
   "cell_type": "code",
   "execution_count": 91,
   "id": "f6ff954f",
   "metadata": {},
   "outputs": [
    {
     "name": "stdout",
     "output_type": "stream",
     "text": [
      "Collecting kaggle\n",
      "  Using cached kaggle-1.5.12-py3-none-any.whl\n",
      "Installing collected packages: kaggle\n",
      "  Attempting uninstall: kaggle\n",
      "    Found existing installation: kaggle 1.5.12\n",
      "    Uninstalling kaggle-1.5.12:\n",
      "      Successfully uninstalled kaggle-1.5.12\n",
      "Successfully installed kaggle-1.5.12\n"
     ]
    }
   ],
   "source": [
    "!pip install --upgrade --force-reinstall --no-deps kaggle"
   ]
  },
  {
   "cell_type": "code",
   "execution_count": 18,
   "id": "ff44b356",
   "metadata": {},
   "outputs": [],
   "source": [
    "from kaggle.api.kaggle_api_extended import KaggleApi\n",
    "api = KaggleApi()"
   ]
  },
  {
   "cell_type": "code",
   "execution_count": 19,
   "id": "f29ee7b7",
   "metadata": {},
   "outputs": [],
   "source": [
    "api.authenticate()"
   ]
  },
  {
   "cell_type": "code",
   "execution_count": 20,
   "id": "6bf18a49",
   "metadata": {},
   "outputs": [],
   "source": [
    "ds = api.dataset_list(search=\"cynthiarempel\")[0]\n",
    "file_result = api.dataset_list_files(ds.ref)"
   ]
  },
  {
   "cell_type": "code",
   "execution_count": 22,
   "id": "eb8af200",
   "metadata": {},
   "outputs": [],
   "source": [
    "var = file_result.files"
   ]
  },
  {
   "cell_type": "code",
   "execution_count": 32,
   "id": "181c50a9",
   "metadata": {},
   "outputs": [
    {
     "name": "stdout",
     "output_type": "stream",
     "text": [
      "\u001b[31mERROR: Could not find a version that satisfies the requirement shutil (from versions: none)\u001b[0m\r\n",
      "\u001b[31mERROR: No matching distribution found for shutil\u001b[0m\r\n"
     ]
    }
   ],
   "source": [
    "!pip install shutil"
   ]
  },
  {
   "cell_type": "code",
   "execution_count": 33,
   "id": "cb102e2f",
   "metadata": {},
   "outputs": [],
   "source": [
    "import shutil"
   ]
  },
  {
   "cell_type": "code",
   "execution_count": 27,
   "id": "cc029218",
   "metadata": {},
   "outputs": [
    {
     "data": {
      "text/plain": [
       "amazon_reviews_us_Video_DVD_v1_00.tsv"
      ]
     },
     "execution_count": 27,
     "metadata": {},
     "output_type": "execute_result"
    }
   ],
   "source": [
    "var"
   ]
  },
  {
   "cell_type": "code",
   "execution_count": 34,
   "id": "7a52717e",
   "metadata": {},
   "outputs": [],
   "source": [
    "shutil.unpack_archive('amazon_reviews_us_Furniture_v1_00.tsv.zip', 'amazon_reviews_us_Furniture_v1_00.tsv')"
   ]
  },
  {
   "cell_type": "code",
   "execution_count": 118,
   "id": "285d3bf2",
   "metadata": {},
   "outputs": [
    {
     "name": "stdout",
     "output_type": "stream",
     "text": [
      "cynthiarempel/amazon-us-customer-reviews-dataset\n"
     ]
    }
   ],
   "source": [
    "print(ds.ref)"
   ]
  },
  {
   "cell_type": "code",
   "execution_count": 151,
   "id": "a745e660",
   "metadata": {},
   "outputs": [
    {
     "data": {
      "text/plain": [
       "[amazon_reviews_us_Digital_Software_v1_00.tsv,\n",
       " amazon_reviews_us_Software_v1_00.tsv,\n",
       " amazon_reviews_us_Watches_v1_00.tsv,\n",
       " amazon_reviews_us_Health_Personal_Care_v1_00.tsv,\n",
       " amazon_reviews_us_Major_Appliances_v1_00.tsv,\n",
       " amazon_reviews_us_Gift_Card_v1_00.tsv,\n",
       " amazon_reviews_us_Baby_v1_00.tsv,\n",
       " amazon_reviews_us_Automotive_v1_00.tsv,\n",
       " amazon_reviews_us_Office_Products_v1_00.tsv,\n",
       " amazon_reviews_us_Personal_Care_Appliances_v1_00.tsv,\n",
       " amazon_reviews_us_Wireless_v1_00.tsv,\n",
       " amazon_reviews_us_Video_v1_00.tsv,\n",
       " amazon_reviews_us_Tools_v1_00.tsv,\n",
       " amazon_reviews_us_Books_v1_02.tsv,\n",
       " amazon_reviews_us_Video_DVD_v1_00.tsv,\n",
       " amazon_reviews_us_Digital_Video_Download_v1_00.tsv,\n",
       " amazon_reviews_us_Musical_Instruments_v1_00.tsv,\n",
       " amazon_reviews_us_Camera_v1_00.tsv,\n",
       " amazon_reviews_us_Toys_v1_00.tsv,\n",
       " amazon_reviews_us_Music_v1_00.tsv,\n",
       " amazon_reviews_us_Grocery_v1_00.tsv,\n",
       " amazon_reviews_us_Outdoors_v1_00.tsv,\n",
       " amazon_reviews_us_Pet_Products_v1_00.tsv,\n",
       " amazon_reviews_us_Digital_Video_Games_v1_00.tsv,\n",
       " amazon_reviews_us_Digital_Music_Purchase_v1_00.tsv,\n",
       " amazon_reviews_us_PC_v1_00.tsv,\n",
       " amazon_reviews_multilingual_US_v1_00.tsv,\n",
       " amazon_reviews_us_Sports_v1_00.tsv,\n",
       " amazon_reviews_us_Apparel_v1_00.tsv,\n",
       " amazon_reviews_us_Mobile_Electronics_v1_00.tsv,\n",
       " amazon_reviews_us_Beauty_v1_00.tsv,\n",
       " amazon_reviews_us_Furniture_v1_00.tsv,\n",
       " amazon_reviews_us_Shoes_v1_00.tsv,\n",
       " amazon_reviews_us_Electronics_v1_00.tsv,\n",
       " amazon_reviews_us_Mobile_Apps_v1_00.tsv,\n",
       " amazon_reviews_us_Video_Games_v1_00.tsv,\n",
       " amazon_reviews_us_Digital_Ebook_Purchase_v1_01.tsv]"
      ]
     },
     "execution_count": 151,
     "metadata": {},
     "output_type": "execute_result"
    }
   ],
   "source": [
    "file_result = api.dataset_list_files(ds.ref)\n",
    "file_result.files"
   ]
  },
  {
   "cell_type": "code",
   "execution_count": 140,
   "id": "507575bd",
   "metadata": {},
   "outputs": [
    {
     "name": "stdout",
     "output_type": "stream",
     "text": [
      "amazon_reviews_us_Outdoors_v1_00.tsv\n"
     ]
    }
   ],
   "source": [
    "name = file_result.files[1]\n",
    "print(name)"
   ]
  },
  {
   "cell_type": "code",
   "execution_count": 156,
   "id": "6898c04f",
   "metadata": {},
   "outputs": [
    {
     "data": {
      "text/plain": [
       "True"
      ]
     },
     "execution_count": 156,
     "metadata": {},
     "output_type": "execute_result"
    }
   ],
   "source": [
    "api.dataset_download_file(f\"{ds.ref}\", f\"{file_result.files[5]}\")"
   ]
  },
  {
   "cell_type": "code",
   "execution_count": 165,
   "id": "634606c2",
   "metadata": {},
   "outputs": [],
   "source": [
    "for i in file_result.files[:1]:\n",
    "    api.dataset_download_file(f\"{ds.ref}\", f\"{i}\")"
   ]
  },
  {
   "cell_type": "code",
   "execution_count": 99,
   "id": "86f88eff",
   "metadata": {},
   "outputs": [
    {
     "ename": "ApiException",
     "evalue": "(404)\nReason: Not Found\nHTTP response headers: HTTPHeaderDict({'Content-Type': 'application/json', 'Date': 'Fri, 23 Sep 2022 15:02:39 GMT', 'Access-Control-Allow-Credentials': 'true', 'Set-Cookie': 'ka_sessionid=7db79ebad708416ca9a8821f5de0dc71; max-age=2626560; path=/, GCLB=CLLFmf_al6aQNg; path=/; HttpOnly', 'Transfer-Encoding': 'chunked', 'Vary': 'Accept-Encoding', 'Turbolinks-Location': 'https://www.kaggle.com/api/v1/datasets/download/cynthiarempel/amazon-us-customer-reviews-dataset/amazon_reviews_us_Video_v1_00.tsv', 'X-Kaggle-MillisecondsElapsed': '471', 'X-Kaggle-RequestId': '40f69cac259e9f2c888fbf34b2861f82', 'X-Kaggle-ApiVersion': '1.5.12', 'X-Frame-Options': 'SAMEORIGIN', 'Strict-Transport-Security': 'max-age=63072000; includeSubDomains; preload', 'Content-Security-Policy': \"object-src 'none'; script-src 'nonce-RUi/Ep64WiZK9loYWF58PQ==' 'report-sample' 'unsafe-inline' 'unsafe-eval' 'strict-dynamic' https: http:; frame-src 'self' https://www.kaggleusercontent.com https://www.youtube.com/embed/ https://polygraph-cool.github.io https://www.google.com/recaptcha/ https://form.jotform.com https://submit.jotform.us https://submit.jotformpro.com https://submit.jotform.com https://www.docdroid.com https://www.docdroid.net https://kaggle-static.storage.googleapis.com https://kaggle-static-staging.storage.googleapis.com https://kkb-dev.jupyter-proxy.kaggle.net https://kkb-staging.jupyter-proxy.kaggle.net https://kkb-production.jupyter-proxy.kaggle.net https://kkb-dev.firebaseapp.com https://kkb-staging.firebaseapp.com https://kkb-production.firebaseapp.com https://kaggle-metastore-test.firebaseapp.com https://kaggle-metastore.firebaseapp.com https://apis.google.com https://content-sheets.googleapis.com/ https://accounts.google.com/ https://storage.googleapis.com https://docs.google.com https://drive.google.com https://calendar.google.com/; base-uri 'none'; report-uri https://csp.withgoogle.com/csp/kaggle/20201130;\", 'X-Content-Type-Options': 'nosniff', 'Referrer-Policy': 'strict-origin-when-cross-origin', 'Via': '1.1 google', 'Alt-Svc': 'h3=\":443\"; ma=2592000,h3-29=\":443\"; ma=2592000'})\nHTTP response body: {\"code\":404,\"message\":\"Not found\"}\n",
     "output_type": "error",
     "traceback": [
      "\u001b[0;31m---------------------------------------------------------------------------\u001b[0m",
      "\u001b[0;31mApiException\u001b[0m                              Traceback (most recent call last)",
      "Input \u001b[0;32mIn [99]\u001b[0m, in \u001b[0;36m<cell line: 1>\u001b[0;34m()\u001b[0m\n\u001b[0;32m----> 1\u001b[0m \u001b[43mapi\u001b[49m\u001b[38;5;241;43m.\u001b[39;49m\u001b[43mdatasets_download_file\u001b[49m\u001b[43m(\u001b[49m\u001b[43mowner_slug\u001b[49m\u001b[38;5;241;43m=\u001b[39;49m\u001b[38;5;124;43m'\u001b[39;49m\u001b[38;5;124;43mcynthiarempel\u001b[39;49m\u001b[38;5;124;43m'\u001b[39;49m\u001b[43m,\u001b[49m\u001b[43m \u001b[49m\n\u001b[1;32m      2\u001b[0m \u001b[43m                           \u001b[49m\u001b[43mdataset_slug\u001b[49m\u001b[38;5;241;43m=\u001b[39;49m\u001b[38;5;124;43m'\u001b[39;49m\u001b[38;5;124;43mamazon-us-customer-reviews-dataset\u001b[39;49m\u001b[38;5;124;43m'\u001b[39;49m\u001b[43m,\u001b[49m\u001b[43m \u001b[49m\n\u001b[1;32m      3\u001b[0m \u001b[43m                           \u001b[49m\u001b[43mfile_name\u001b[49m\u001b[38;5;241;43m=\u001b[39;49m\u001b[38;5;124;43m'\u001b[39;49m\u001b[38;5;124;43mamazon_reviews_us_Video_v1_00.tsv\u001b[39;49m\u001b[38;5;124;43m'\u001b[39;49m\u001b[43m)\u001b[49m\n",
      "File \u001b[0;32m~/anaconda3/lib/python3.9/site-packages/kaggle/api/kaggle_api.py:1503\u001b[0m, in \u001b[0;36mKaggleApi.datasets_download_file\u001b[0;34m(self, owner_slug, dataset_slug, file_name, **kwargs)\u001b[0m\n\u001b[1;32m   1501\u001b[0m     \u001b[38;5;28;01mreturn\u001b[39;00m \u001b[38;5;28mself\u001b[39m\u001b[38;5;241m.\u001b[39mdatasets_download_file_with_http_info(owner_slug, dataset_slug, file_name, \u001b[38;5;241m*\u001b[39m\u001b[38;5;241m*\u001b[39mkwargs)  \u001b[38;5;66;03m# noqa: E501\u001b[39;00m\n\u001b[1;32m   1502\u001b[0m \u001b[38;5;28;01melse\u001b[39;00m:\n\u001b[0;32m-> 1503\u001b[0m     (data) \u001b[38;5;241m=\u001b[39m \u001b[38;5;28;43mself\u001b[39;49m\u001b[38;5;241;43m.\u001b[39;49m\u001b[43mdatasets_download_file_with_http_info\u001b[49m\u001b[43m(\u001b[49m\u001b[43mowner_slug\u001b[49m\u001b[43m,\u001b[49m\u001b[43m \u001b[49m\u001b[43mdataset_slug\u001b[49m\u001b[43m,\u001b[49m\u001b[43m \u001b[49m\u001b[43mfile_name\u001b[49m\u001b[43m,\u001b[49m\u001b[43m \u001b[49m\u001b[38;5;241;43m*\u001b[39;49m\u001b[38;5;241;43m*\u001b[39;49m\u001b[43mkwargs\u001b[49m\u001b[43m)\u001b[49m  \u001b[38;5;66;03m# noqa: E501\u001b[39;00m\n\u001b[1;32m   1504\u001b[0m     \u001b[38;5;28;01mreturn\u001b[39;00m data\n",
      "File \u001b[0;32m~/anaconda3/lib/python3.9/site-packages/kaggle/api/kaggle_api.py:1579\u001b[0m, in \u001b[0;36mKaggleApi.datasets_download_file_with_http_info\u001b[0;34m(self, owner_slug, dataset_slug, file_name, **kwargs)\u001b[0m\n\u001b[1;32m   1576\u001b[0m \u001b[38;5;66;03m# Authentication setting\u001b[39;00m\n\u001b[1;32m   1577\u001b[0m auth_settings \u001b[38;5;241m=\u001b[39m [\u001b[38;5;124m'\u001b[39m\u001b[38;5;124mbasicAuth\u001b[39m\u001b[38;5;124m'\u001b[39m]  \u001b[38;5;66;03m# noqa: E501\u001b[39;00m\n\u001b[0;32m-> 1579\u001b[0m \u001b[38;5;28;01mreturn\u001b[39;00m \u001b[38;5;28;43mself\u001b[39;49m\u001b[38;5;241;43m.\u001b[39;49m\u001b[43mapi_client\u001b[49m\u001b[38;5;241;43m.\u001b[39;49m\u001b[43mcall_api\u001b[49m\u001b[43m(\u001b[49m\n\u001b[1;32m   1580\u001b[0m \u001b[43m    \u001b[49m\u001b[38;5;124;43m'\u001b[39;49m\u001b[38;5;124;43m/datasets/download/\u001b[39;49m\u001b[38;5;132;43;01m{ownerSlug}\u001b[39;49;00m\u001b[38;5;124;43m/\u001b[39;49m\u001b[38;5;132;43;01m{datasetSlug}\u001b[39;49;00m\u001b[38;5;124;43m/\u001b[39;49m\u001b[38;5;132;43;01m{fileName}\u001b[39;49;00m\u001b[38;5;124;43m'\u001b[39;49m\u001b[43m,\u001b[49m\u001b[43m \u001b[49m\u001b[38;5;124;43m'\u001b[39;49m\u001b[38;5;124;43mGET\u001b[39;49m\u001b[38;5;124;43m'\u001b[39;49m\u001b[43m,\u001b[49m\n\u001b[1;32m   1581\u001b[0m \u001b[43m    \u001b[49m\u001b[43mpath_params\u001b[49m\u001b[43m,\u001b[49m\n\u001b[1;32m   1582\u001b[0m \u001b[43m    \u001b[49m\u001b[43mquery_params\u001b[49m\u001b[43m,\u001b[49m\n\u001b[1;32m   1583\u001b[0m \u001b[43m    \u001b[49m\u001b[43mheader_params\u001b[49m\u001b[43m,\u001b[49m\n\u001b[1;32m   1584\u001b[0m \u001b[43m    \u001b[49m\u001b[43mbody\u001b[49m\u001b[38;5;241;43m=\u001b[39;49m\u001b[43mbody_params\u001b[49m\u001b[43m,\u001b[49m\n\u001b[1;32m   1585\u001b[0m \u001b[43m    \u001b[49m\u001b[43mpost_params\u001b[49m\u001b[38;5;241;43m=\u001b[39;49m\u001b[43mform_params\u001b[49m\u001b[43m,\u001b[49m\n\u001b[1;32m   1586\u001b[0m \u001b[43m    \u001b[49m\u001b[43mfiles\u001b[49m\u001b[38;5;241;43m=\u001b[39;49m\u001b[43mlocal_var_files\u001b[49m\u001b[43m,\u001b[49m\n\u001b[1;32m   1587\u001b[0m \u001b[43m    \u001b[49m\u001b[43mresponse_type\u001b[49m\u001b[38;5;241;43m=\u001b[39;49m\u001b[38;5;124;43m'\u001b[39;49m\u001b[38;5;124;43mResult\u001b[39;49m\u001b[38;5;124;43m'\u001b[39;49m\u001b[43m,\u001b[49m\u001b[43m  \u001b[49m\u001b[38;5;66;43;03m# noqa: E501\u001b[39;49;00m\n\u001b[1;32m   1588\u001b[0m \u001b[43m    \u001b[49m\u001b[43mauth_settings\u001b[49m\u001b[38;5;241;43m=\u001b[39;49m\u001b[43mauth_settings\u001b[49m\u001b[43m,\u001b[49m\n\u001b[1;32m   1589\u001b[0m \u001b[43m    \u001b[49m\u001b[43masync_req\u001b[49m\u001b[38;5;241;43m=\u001b[39;49m\u001b[43mparams\u001b[49m\u001b[38;5;241;43m.\u001b[39;49m\u001b[43mget\u001b[49m\u001b[43m(\u001b[49m\u001b[38;5;124;43m'\u001b[39;49m\u001b[38;5;124;43masync_req\u001b[39;49m\u001b[38;5;124;43m'\u001b[39;49m\u001b[43m)\u001b[49m\u001b[43m,\u001b[49m\n\u001b[1;32m   1590\u001b[0m \u001b[43m    \u001b[49m\u001b[43m_return_http_data_only\u001b[49m\u001b[38;5;241;43m=\u001b[39;49m\u001b[43mparams\u001b[49m\u001b[38;5;241;43m.\u001b[39;49m\u001b[43mget\u001b[49m\u001b[43m(\u001b[49m\u001b[38;5;124;43m'\u001b[39;49m\u001b[38;5;124;43m_return_http_data_only\u001b[39;49m\u001b[38;5;124;43m'\u001b[39;49m\u001b[43m)\u001b[49m\u001b[43m,\u001b[49m\n\u001b[1;32m   1591\u001b[0m \u001b[43m    \u001b[49m\u001b[43m_preload_content\u001b[49m\u001b[38;5;241;43m=\u001b[39;49m\u001b[43mparams\u001b[49m\u001b[38;5;241;43m.\u001b[39;49m\u001b[43mget\u001b[49m\u001b[43m(\u001b[49m\u001b[38;5;124;43m'\u001b[39;49m\u001b[38;5;124;43m_preload_content\u001b[39;49m\u001b[38;5;124;43m'\u001b[39;49m\u001b[43m,\u001b[49m\u001b[43m \u001b[49m\u001b[38;5;28;43;01mTrue\u001b[39;49;00m\u001b[43m)\u001b[49m\u001b[43m,\u001b[49m\n\u001b[1;32m   1592\u001b[0m \u001b[43m    \u001b[49m\u001b[43m_request_timeout\u001b[49m\u001b[38;5;241;43m=\u001b[39;49m\u001b[43mparams\u001b[49m\u001b[38;5;241;43m.\u001b[39;49m\u001b[43mget\u001b[49m\u001b[43m(\u001b[49m\u001b[38;5;124;43m'\u001b[39;49m\u001b[38;5;124;43m_request_timeout\u001b[39;49m\u001b[38;5;124;43m'\u001b[39;49m\u001b[43m)\u001b[49m\u001b[43m,\u001b[49m\n\u001b[1;32m   1593\u001b[0m \u001b[43m    \u001b[49m\u001b[43mcollection_formats\u001b[49m\u001b[38;5;241;43m=\u001b[39;49m\u001b[43mcollection_formats\u001b[49m\u001b[43m)\u001b[49m\n",
      "File \u001b[0;32m~/anaconda3/lib/python3.9/site-packages/kaggle/api_client.py:329\u001b[0m, in \u001b[0;36mApiClient.call_api\u001b[0;34m(self, resource_path, method, path_params, query_params, header_params, body, post_params, files, response_type, auth_settings, async_req, _return_http_data_only, collection_formats, _preload_content, _request_timeout)\u001b[0m\n\u001b[1;32m    292\u001b[0m \u001b[38;5;124;03m\"\"\"Makes the HTTP request (synchronous) and returns deserialized data.\u001b[39;00m\n\u001b[1;32m    293\u001b[0m \n\u001b[1;32m    294\u001b[0m \u001b[38;5;124;03mTo make an async request, set the async_req parameter.\u001b[39;00m\n\u001b[0;32m   (...)\u001b[0m\n\u001b[1;32m    326\u001b[0m \u001b[38;5;124;03m    then the method will return the response directly.\u001b[39;00m\n\u001b[1;32m    327\u001b[0m \u001b[38;5;124;03m\"\"\"\u001b[39;00m\n\u001b[1;32m    328\u001b[0m \u001b[38;5;28;01mif\u001b[39;00m \u001b[38;5;129;01mnot\u001b[39;00m async_req:\n\u001b[0;32m--> 329\u001b[0m     \u001b[38;5;28;01mreturn\u001b[39;00m \u001b[38;5;28;43mself\u001b[39;49m\u001b[38;5;241;43m.\u001b[39;49m\u001b[43m__call_api\u001b[49m\u001b[43m(\u001b[49m\u001b[43mresource_path\u001b[49m\u001b[43m,\u001b[49m\u001b[43m \u001b[49m\u001b[43mmethod\u001b[49m\u001b[43m,\u001b[49m\n\u001b[1;32m    330\u001b[0m \u001b[43m                           \u001b[49m\u001b[43mpath_params\u001b[49m\u001b[43m,\u001b[49m\u001b[43m \u001b[49m\u001b[43mquery_params\u001b[49m\u001b[43m,\u001b[49m\u001b[43m \u001b[49m\u001b[43mheader_params\u001b[49m\u001b[43m,\u001b[49m\n\u001b[1;32m    331\u001b[0m \u001b[43m                           \u001b[49m\u001b[43mbody\u001b[49m\u001b[43m,\u001b[49m\u001b[43m \u001b[49m\u001b[43mpost_params\u001b[49m\u001b[43m,\u001b[49m\u001b[43m \u001b[49m\u001b[43mfiles\u001b[49m\u001b[43m,\u001b[49m\n\u001b[1;32m    332\u001b[0m \u001b[43m                           \u001b[49m\u001b[43mresponse_type\u001b[49m\u001b[43m,\u001b[49m\u001b[43m \u001b[49m\u001b[43mauth_settings\u001b[49m\u001b[43m,\u001b[49m\n\u001b[1;32m    333\u001b[0m \u001b[43m                           \u001b[49m\u001b[43m_return_http_data_only\u001b[49m\u001b[43m,\u001b[49m\u001b[43m \u001b[49m\u001b[43mcollection_formats\u001b[49m\u001b[43m,\u001b[49m\n\u001b[1;32m    334\u001b[0m \u001b[43m                           \u001b[49m\u001b[43m_preload_content\u001b[49m\u001b[43m,\u001b[49m\u001b[43m \u001b[49m\u001b[43m_request_timeout\u001b[49m\u001b[43m)\u001b[49m\n\u001b[1;32m    335\u001b[0m \u001b[38;5;28;01melse\u001b[39;00m:\n\u001b[1;32m    336\u001b[0m     thread \u001b[38;5;241m=\u001b[39m \u001b[38;5;28mself\u001b[39m\u001b[38;5;241m.\u001b[39mpool\u001b[38;5;241m.\u001b[39mapply_async(\u001b[38;5;28mself\u001b[39m\u001b[38;5;241m.\u001b[39m__call_api, (resource_path,\n\u001b[1;32m    337\u001b[0m                                    method, path_params, query_params,\n\u001b[1;32m    338\u001b[0m                                    header_params, body,\n\u001b[0;32m   (...)\u001b[0m\n\u001b[1;32m    342\u001b[0m                                    collection_formats,\n\u001b[1;32m    343\u001b[0m                                    _preload_content, _request_timeout))\n",
      "File \u001b[0;32m~/anaconda3/lib/python3.9/site-packages/kaggle/api_client.py:161\u001b[0m, in \u001b[0;36mApiClient.__call_api\u001b[0;34m(self, resource_path, method, path_params, query_params, header_params, body, post_params, files, response_type, auth_settings, _return_http_data_only, collection_formats, _preload_content, _request_timeout)\u001b[0m\n\u001b[1;32m    158\u001b[0m url \u001b[38;5;241m=\u001b[39m \u001b[38;5;28mself\u001b[39m\u001b[38;5;241m.\u001b[39mconfiguration\u001b[38;5;241m.\u001b[39mhost \u001b[38;5;241m+\u001b[39m resource_path\n\u001b[1;32m    160\u001b[0m \u001b[38;5;66;03m# perform request and return response\u001b[39;00m\n\u001b[0;32m--> 161\u001b[0m response_data \u001b[38;5;241m=\u001b[39m \u001b[38;5;28;43mself\u001b[39;49m\u001b[38;5;241;43m.\u001b[39;49m\u001b[43mrequest\u001b[49m\u001b[43m(\u001b[49m\n\u001b[1;32m    162\u001b[0m \u001b[43m    \u001b[49m\u001b[43mmethod\u001b[49m\u001b[43m,\u001b[49m\u001b[43m \u001b[49m\u001b[43murl\u001b[49m\u001b[43m,\u001b[49m\u001b[43m \u001b[49m\u001b[43mquery_params\u001b[49m\u001b[38;5;241;43m=\u001b[39;49m\u001b[43mquery_params\u001b[49m\u001b[43m,\u001b[49m\u001b[43m \u001b[49m\u001b[43mheaders\u001b[49m\u001b[38;5;241;43m=\u001b[39;49m\u001b[43mheader_params\u001b[49m\u001b[43m,\u001b[49m\n\u001b[1;32m    163\u001b[0m \u001b[43m    \u001b[49m\u001b[43mpost_params\u001b[49m\u001b[38;5;241;43m=\u001b[39;49m\u001b[43mpost_params\u001b[49m\u001b[43m,\u001b[49m\u001b[43m \u001b[49m\u001b[43mbody\u001b[49m\u001b[38;5;241;43m=\u001b[39;49m\u001b[43mbody\u001b[49m\u001b[43m,\u001b[49m\n\u001b[1;32m    164\u001b[0m \u001b[43m    \u001b[49m\u001b[43m_preload_content\u001b[49m\u001b[38;5;241;43m=\u001b[39;49m\u001b[43m_preload_content\u001b[49m\u001b[43m,\u001b[49m\n\u001b[1;32m    165\u001b[0m \u001b[43m    \u001b[49m\u001b[43m_request_timeout\u001b[49m\u001b[38;5;241;43m=\u001b[39;49m\u001b[43m_request_timeout\u001b[49m\u001b[43m)\u001b[49m\n\u001b[1;32m    167\u001b[0m \u001b[38;5;28mself\u001b[39m\u001b[38;5;241m.\u001b[39mlast_response \u001b[38;5;241m=\u001b[39m response_data\n\u001b[1;32m    169\u001b[0m return_data \u001b[38;5;241m=\u001b[39m response_data\n",
      "File \u001b[0;32m~/anaconda3/lib/python3.9/site-packages/kaggle/api_client.py:351\u001b[0m, in \u001b[0;36mApiClient.request\u001b[0;34m(self, method, url, query_params, headers, post_params, body, _preload_content, _request_timeout)\u001b[0m\n\u001b[1;32m    349\u001b[0m \u001b[38;5;124;03m\"\"\"Makes the HTTP request using RESTClient.\"\"\"\u001b[39;00m\n\u001b[1;32m    350\u001b[0m \u001b[38;5;28;01mif\u001b[39;00m method \u001b[38;5;241m==\u001b[39m \u001b[38;5;124m\"\u001b[39m\u001b[38;5;124mGET\u001b[39m\u001b[38;5;124m\"\u001b[39m:\n\u001b[0;32m--> 351\u001b[0m     \u001b[38;5;28;01mreturn\u001b[39;00m \u001b[38;5;28;43mself\u001b[39;49m\u001b[38;5;241;43m.\u001b[39;49m\u001b[43mrest_client\u001b[49m\u001b[38;5;241;43m.\u001b[39;49m\u001b[43mGET\u001b[49m\u001b[43m(\u001b[49m\u001b[43murl\u001b[49m\u001b[43m,\u001b[49m\n\u001b[1;32m    352\u001b[0m \u001b[43m                                \u001b[49m\u001b[43mquery_params\u001b[49m\u001b[38;5;241;43m=\u001b[39;49m\u001b[43mquery_params\u001b[49m\u001b[43m,\u001b[49m\n\u001b[1;32m    353\u001b[0m \u001b[43m                                \u001b[49m\u001b[43m_preload_content\u001b[49m\u001b[38;5;241;43m=\u001b[39;49m\u001b[43m_preload_content\u001b[49m\u001b[43m,\u001b[49m\n\u001b[1;32m    354\u001b[0m \u001b[43m                                \u001b[49m\u001b[43m_request_timeout\u001b[49m\u001b[38;5;241;43m=\u001b[39;49m\u001b[43m_request_timeout\u001b[49m\u001b[43m,\u001b[49m\n\u001b[1;32m    355\u001b[0m \u001b[43m                                \u001b[49m\u001b[43mheaders\u001b[49m\u001b[38;5;241;43m=\u001b[39;49m\u001b[43mheaders\u001b[49m\u001b[43m)\u001b[49m\n\u001b[1;32m    356\u001b[0m \u001b[38;5;28;01melif\u001b[39;00m method \u001b[38;5;241m==\u001b[39m \u001b[38;5;124m\"\u001b[39m\u001b[38;5;124mHEAD\u001b[39m\u001b[38;5;124m\"\u001b[39m:\n\u001b[1;32m    357\u001b[0m     \u001b[38;5;28;01mreturn\u001b[39;00m \u001b[38;5;28mself\u001b[39m\u001b[38;5;241m.\u001b[39mrest_client\u001b[38;5;241m.\u001b[39mHEAD(url,\n\u001b[1;32m    358\u001b[0m                                  query_params\u001b[38;5;241m=\u001b[39mquery_params,\n\u001b[1;32m    359\u001b[0m                                  _preload_content\u001b[38;5;241m=\u001b[39m_preload_content,\n\u001b[1;32m    360\u001b[0m                                  _request_timeout\u001b[38;5;241m=\u001b[39m_request_timeout,\n\u001b[1;32m    361\u001b[0m                                  headers\u001b[38;5;241m=\u001b[39mheaders)\n",
      "File \u001b[0;32m~/anaconda3/lib/python3.9/site-packages/kaggle/rest.py:247\u001b[0m, in \u001b[0;36mRESTClientObject.GET\u001b[0;34m(self, url, headers, query_params, _preload_content, _request_timeout)\u001b[0m\n\u001b[1;32m    245\u001b[0m \u001b[38;5;28;01mdef\u001b[39;00m \u001b[38;5;21mGET\u001b[39m(\u001b[38;5;28mself\u001b[39m, url, headers\u001b[38;5;241m=\u001b[39m\u001b[38;5;28;01mNone\u001b[39;00m, query_params\u001b[38;5;241m=\u001b[39m\u001b[38;5;28;01mNone\u001b[39;00m, _preload_content\u001b[38;5;241m=\u001b[39m\u001b[38;5;28;01mTrue\u001b[39;00m,\n\u001b[1;32m    246\u001b[0m         _request_timeout\u001b[38;5;241m=\u001b[39m\u001b[38;5;28;01mNone\u001b[39;00m):\n\u001b[0;32m--> 247\u001b[0m     \u001b[38;5;28;01mreturn\u001b[39;00m \u001b[38;5;28;43mself\u001b[39;49m\u001b[38;5;241;43m.\u001b[39;49m\u001b[43mrequest\u001b[49m\u001b[43m(\u001b[49m\u001b[38;5;124;43m\"\u001b[39;49m\u001b[38;5;124;43mGET\u001b[39;49m\u001b[38;5;124;43m\"\u001b[39;49m\u001b[43m,\u001b[49m\u001b[43m \u001b[49m\u001b[43murl\u001b[49m\u001b[43m,\u001b[49m\n\u001b[1;32m    248\u001b[0m \u001b[43m                        \u001b[49m\u001b[43mheaders\u001b[49m\u001b[38;5;241;43m=\u001b[39;49m\u001b[43mheaders\u001b[49m\u001b[43m,\u001b[49m\n\u001b[1;32m    249\u001b[0m \u001b[43m                        \u001b[49m\u001b[43m_preload_content\u001b[49m\u001b[38;5;241;43m=\u001b[39;49m\u001b[43m_preload_content\u001b[49m\u001b[43m,\u001b[49m\n\u001b[1;32m    250\u001b[0m \u001b[43m                        \u001b[49m\u001b[43m_request_timeout\u001b[49m\u001b[38;5;241;43m=\u001b[39;49m\u001b[43m_request_timeout\u001b[49m\u001b[43m,\u001b[49m\n\u001b[1;32m    251\u001b[0m \u001b[43m                        \u001b[49m\u001b[43mquery_params\u001b[49m\u001b[38;5;241;43m=\u001b[39;49m\u001b[43mquery_params\u001b[49m\u001b[43m)\u001b[49m\n",
      "File \u001b[0;32m~/anaconda3/lib/python3.9/site-packages/kaggle/rest.py:241\u001b[0m, in \u001b[0;36mRESTClientObject.request\u001b[0;34m(self, method, url, query_params, headers, body, post_params, _preload_content, _request_timeout)\u001b[0m\n\u001b[1;32m    238\u001b[0m     logger\u001b[38;5;241m.\u001b[39mdebug(\u001b[38;5;124m\"\u001b[39m\u001b[38;5;124mresponse body: \u001b[39m\u001b[38;5;132;01m%s\u001b[39;00m\u001b[38;5;124m\"\u001b[39m, r\u001b[38;5;241m.\u001b[39mdata)\n\u001b[1;32m    240\u001b[0m \u001b[38;5;28;01mif\u001b[39;00m \u001b[38;5;129;01mnot\u001b[39;00m \u001b[38;5;241m200\u001b[39m \u001b[38;5;241m<\u001b[39m\u001b[38;5;241m=\u001b[39m r\u001b[38;5;241m.\u001b[39mstatus \u001b[38;5;241m<\u001b[39m\u001b[38;5;241m=\u001b[39m \u001b[38;5;241m299\u001b[39m:\n\u001b[0;32m--> 241\u001b[0m     \u001b[38;5;28;01mraise\u001b[39;00m ApiException(http_resp\u001b[38;5;241m=\u001b[39mr)\n\u001b[1;32m    243\u001b[0m \u001b[38;5;28;01mreturn\u001b[39;00m r\n",
      "\u001b[0;31mApiException\u001b[0m: (404)\nReason: Not Found\nHTTP response headers: HTTPHeaderDict({'Content-Type': 'application/json', 'Date': 'Fri, 23 Sep 2022 15:02:39 GMT', 'Access-Control-Allow-Credentials': 'true', 'Set-Cookie': 'ka_sessionid=7db79ebad708416ca9a8821f5de0dc71; max-age=2626560; path=/, GCLB=CLLFmf_al6aQNg; path=/; HttpOnly', 'Transfer-Encoding': 'chunked', 'Vary': 'Accept-Encoding', 'Turbolinks-Location': 'https://www.kaggle.com/api/v1/datasets/download/cynthiarempel/amazon-us-customer-reviews-dataset/amazon_reviews_us_Video_v1_00.tsv', 'X-Kaggle-MillisecondsElapsed': '471', 'X-Kaggle-RequestId': '40f69cac259e9f2c888fbf34b2861f82', 'X-Kaggle-ApiVersion': '1.5.12', 'X-Frame-Options': 'SAMEORIGIN', 'Strict-Transport-Security': 'max-age=63072000; includeSubDomains; preload', 'Content-Security-Policy': \"object-src 'none'; script-src 'nonce-RUi/Ep64WiZK9loYWF58PQ==' 'report-sample' 'unsafe-inline' 'unsafe-eval' 'strict-dynamic' https: http:; frame-src 'self' https://www.kaggleusercontent.com https://www.youtube.com/embed/ https://polygraph-cool.github.io https://www.google.com/recaptcha/ https://form.jotform.com https://submit.jotform.us https://submit.jotformpro.com https://submit.jotform.com https://www.docdroid.com https://www.docdroid.net https://kaggle-static.storage.googleapis.com https://kaggle-static-staging.storage.googleapis.com https://kkb-dev.jupyter-proxy.kaggle.net https://kkb-staging.jupyter-proxy.kaggle.net https://kkb-production.jupyter-proxy.kaggle.net https://kkb-dev.firebaseapp.com https://kkb-staging.firebaseapp.com https://kkb-production.firebaseapp.com https://kaggle-metastore-test.firebaseapp.com https://kaggle-metastore.firebaseapp.com https://apis.google.com https://content-sheets.googleapis.com/ https://accounts.google.com/ https://storage.googleapis.com https://docs.google.com https://drive.google.com https://calendar.google.com/; base-uri 'none'; report-uri https://csp.withgoogle.com/csp/kaggle/20201130;\", 'X-Content-Type-Options': 'nosniff', 'Referrer-Policy': 'strict-origin-when-cross-origin', 'Via': '1.1 google', 'Alt-Svc': 'h3=\":443\"; ma=2592000,h3-29=\":443\"; ma=2592000'})\nHTTP response body: {\"code\":404,\"message\":\"Not found\"}\n"
     ]
    }
   ],
   "source": [
    "api.datasets_download_file(owner_slug='cynthiarempel', \n",
    "                           dataset_slug='amazon-us-customer-reviews-dataset', \n",
    "                           file_name='amazon_reviews_us_Video_v1_00.tsv')"
   ]
  },
  {
   "cell_type": "code",
   "execution_count": null,
   "id": "c94bc264",
   "metadata": {},
   "outputs": [],
   "source": [
    "kaggle datasets download -d cynthiarempel/amazon-us-customer-reviews-dataset"
   ]
  },
  {
   "cell_type": "code",
   "execution_count": 73,
   "id": "0ec4fc12",
   "metadata": {},
   "outputs": [],
   "source": [
    "df[\"name\"].to_csv('check.csv', header=False, index=False)"
   ]
  },
  {
   "cell_type": "code",
   "execution_count": 74,
   "id": "dd35da7e",
   "metadata": {},
   "outputs": [],
   "source": [
    "df_check_2 = pd.read_csv('check.csv', header=None)"
   ]
  },
  {
   "cell_type": "code",
   "execution_count": 75,
   "id": "f42dee22",
   "metadata": {},
   "outputs": [],
   "source": [
    "list_2 = df_check[0][:]"
   ]
  },
  {
   "cell_type": "code",
   "execution_count": 76,
   "id": "84531e2f",
   "metadata": {},
   "outputs": [
    {
     "data": {
      "text/plain": [
       "0                     amazon_reviews_us_Video_v1_00.tsv\n",
       "1        amazon_reviews_us_Mobile_Electronics_v1_00.tsv\n",
       "2              amazon_reviews_multilingual_US_v1_00.tsv\n",
       "3     amazon_reviews_us_Personal_Care_Appliances_v1_...\n",
       "4               amazon_reviews_us_Electronics_v1_00.tsv\n",
       "5                   amazon_reviews_us_Grocery_v1_00.tsv\n",
       "6              amazon_reviews_us_Pet_Products_v1_00.tsv\n",
       "7      amazon_reviews_us_Health_Personal_Care_v1_00.tsv\n",
       "8                        amazon_reviews_us_PC_v1_00.tsv\n",
       "9     amazon_reviews_us_Digital_Ebook_Purchase_v1_01...\n",
       "10         amazon_reviews_us_Digital_Software_v1_00.tsv\n",
       "11               amazon_reviews_us_Automotive_v1_00.tsv\n",
       "12                   amazon_reviews_us_Sports_v1_00.tsv\n",
       "13                amazon_reviews_us_Video_DVD_v1_00.tsv\n",
       "14                 amazon_reviews_us_Outdoors_v1_00.tsv\n",
       "15      amazon_reviews_us_Musical_Instruments_v1_00.tsv\n",
       "16                  amazon_reviews_us_Watches_v1_00.tsv\n",
       "17                    amazon_reviews_us_Shoes_v1_00.tsv\n",
       "18                amazon_reviews_us_Furniture_v1_00.tsv\n",
       "19          amazon_reviews_us_Office_Products_v1_00.tsv\n",
       "20              amazon_reviews_us_Mobile_Apps_v1_00.tsv\n",
       "21         amazon_reviews_us_Major_Appliances_v1_00.tsv\n",
       "22                amazon_reviews_us_Gift_Card_v1_00.tsv\n",
       "23    amazon_reviews_us_Digital_Video_Download_v1_00...\n",
       "24                    amazon_reviews_us_Tools_v1_00.tsv\n",
       "25                    amazon_reviews_us_Music_v1_00.tsv\n",
       "26      amazon_reviews_us_Digital_Video_Games_v1_00.tsv\n",
       "27                   amazon_reviews_us_Beauty_v1_00.tsv\n",
       "28                     amazon_reviews_us_Baby_v1_00.tsv\n",
       "29                 amazon_reviews_us_Software_v1_00.tsv\n",
       "30    amazon_reviews_us_Digital_Music_Purchase_v1_00...\n",
       "31              amazon_reviews_us_Video_Games_v1_00.tsv\n",
       "32                  amazon_reviews_us_Apparel_v1_00.tsv\n",
       "33                    amazon_reviews_us_Books_v1_02.tsv\n",
       "34                 amazon_reviews_us_Wireless_v1_00.tsv\n",
       "35                   amazon_reviews_us_Camera_v1_00.tsv\n",
       "36                     amazon_reviews_us_Toys_v1_00.tsv\n",
       "Name: 0, dtype: object"
      ]
     },
     "execution_count": 76,
     "metadata": {},
     "output_type": "execute_result"
    }
   ],
   "source": [
    "list_2"
   ]
  },
  {
   "cell_type": "code",
   "execution_count": 12,
   "id": "90e77541",
   "metadata": {},
   "outputs": [
    {
     "data": {
      "text/plain": [
       "[amazon_reviews_us_Books_v1_02.tsv,\n",
       " amazon_reviews_us_Video_v1_00.tsv,\n",
       " amazon_reviews_us_Pet_Products_v1_00.tsv,\n",
       " amazon_reviews_us_Shoes_v1_00.tsv,\n",
       " amazon_reviews_us_Automotive_v1_00.tsv,\n",
       " amazon_reviews_us_Personal_Care_Appliances_v1_00.tsv,\n",
       " amazon_reviews_us_Watches_v1_00.tsv,\n",
       " amazon_reviews_us_Digital_Music_Purchase_v1_00.tsv,\n",
       " amazon_reviews_us_Electronics_v1_00.tsv,\n",
       " amazon_reviews_us_Digital_Software_v1_00.tsv,\n",
       " amazon_reviews_us_Gift_Card_v1_00.tsv,\n",
       " amazon_reviews_us_Sports_v1_00.tsv,\n",
       " amazon_reviews_us_Office_Products_v1_00.tsv,\n",
       " amazon_reviews_us_Furniture_v1_00.tsv,\n",
       " amazon_reviews_us_Outdoors_v1_00.tsv,\n",
       " amazon_reviews_us_Video_Games_v1_00.tsv,\n",
       " amazon_reviews_us_Software_v1_00.tsv,\n",
       " amazon_reviews_us_Beauty_v1_00.tsv,\n",
       " amazon_reviews_us_Digital_Video_Download_v1_00.tsv,\n",
       " amazon_reviews_multilingual_US_v1_00.tsv,\n",
       " amazon_reviews_us_Mobile_Apps_v1_00.tsv,\n",
       " amazon_reviews_us_Music_v1_00.tsv,\n",
       " amazon_reviews_us_Digital_Video_Games_v1_00.tsv,\n",
       " amazon_reviews_us_Wireless_v1_00.tsv,\n",
       " amazon_reviews_us_Toys_v1_00.tsv,\n",
       " amazon_reviews_us_Mobile_Electronics_v1_00.tsv,\n",
       " amazon_reviews_us_Major_Appliances_v1_00.tsv,\n",
       " amazon_reviews_us_Digital_Ebook_Purchase_v1_01.tsv,\n",
       " amazon_reviews_us_Video_DVD_v1_00.tsv,\n",
       " amazon_reviews_us_Baby_v1_00.tsv,\n",
       " amazon_reviews_us_Musical_Instruments_v1_00.tsv,\n",
       " amazon_reviews_us_Apparel_v1_00.tsv,\n",
       " amazon_reviews_us_Grocery_v1_00.tsv,\n",
       " amazon_reviews_us_Health_Personal_Care_v1_00.tsv,\n",
       " amazon_reviews_us_Tools_v1_00.tsv,\n",
       " amazon_reviews_us_PC_v1_00.tsv,\n",
       " amazon_reviews_us_Camera_v1_00.tsv]"
      ]
     },
     "execution_count": 12,
     "metadata": {},
     "output_type": "execute_result"
    }
   ],
   "source": [
    "file_result.files"
   ]
  },
  {
   "cell_type": "code",
   "execution_count": 17,
   "id": "2b9a8259",
   "metadata": {},
   "outputs": [
    {
     "data": {
      "text/plain": [
       "True"
      ]
     },
     "execution_count": 17,
     "metadata": {},
     "output_type": "execute_result"
    }
   ],
   "source": [
    "api.dataset_download_file(f\"{ds.ref}\", \"amazon_reviews_us_Furniture_v1_00.tsv\")"
   ]
  },
  {
   "cell_type": "code",
   "execution_count": 7,
   "id": "5d3495e1",
   "metadata": {},
   "outputs": [
    {
     "name": "stdout",
     "output_type": "stream",
     "text": [
      "Traceback (most recent call last):\r\n",
      "  File \"/home/mherr/anaconda3/bin/kaggle\", line 8, in <module>\r\n",
      "    sys.exit(main())\r\n",
      "  File \"/home/mherr/anaconda3/lib/python3.9/site-packages/kaggle/cli.py\", line 67, in main\r\n",
      "    out = args.func(**command_args)\r\n",
      "  File \"/home/mherr/anaconda3/lib/python3.9/site-packages/kaggle/api/kaggle_api_extended.py\", line 1289, in dataset_download_cli\r\n",
      "    self.dataset_download_file(dataset,\r\n",
      "  File \"/home/mherr/anaconda3/lib/python3.9/site-packages/kaggle/api/kaggle_api_extended.py\", line 1166, in dataset_download_file\r\n",
      "    if '/' in dataset:\r\n",
      "TypeError: argument of type 'NoneType' is not iterable\r\n"
     ]
    }
   ],
   "source": [
    "!kaggle datasets download -f amazon_reviews_us_Software_v1_00.tsv"
   ]
  },
  {
   "cell_type": "code",
   "execution_count": 12,
   "id": "13d63765",
   "metadata": {},
   "outputs": [
    {
     "name": "stdout",
     "output_type": "stream",
     "text": [
      "Traceback (most recent call last):\r\n",
      "  File \"/home/mherr/anaconda3/bin/kaggle\", line 8, in <module>\r\n",
      "    sys.exit(main())\r\n",
      "  File \"/home/mherr/anaconda3/lib/python3.9/site-packages/kaggle/cli.py\", line 67, in main\r\n",
      "    out = args.func(**command_args)\r\n",
      "  File \"/home/mherr/anaconda3/lib/python3.9/site-packages/kaggle/api/kaggle_api_extended.py\", line 1289, in dataset_download_cli\r\n",
      "    self.dataset_download_file(dataset,\r\n",
      "  File \"/home/mherr/anaconda3/lib/python3.9/site-packages/kaggle/api/kaggle_api_extended.py\", line 1166, in dataset_download_file\r\n",
      "    if '/' in dataset:\r\n",
      "TypeError: argument of type 'NoneType' is not iterable\r\n"
     ]
    }
   ],
   "source": [
    "!kaggle datasets download --file \"amazon_reviews_us_Software_v1_00.tsv\""
   ]
  },
  {
   "cell_type": "code",
   "execution_count": null,
   "id": "c7fb88a4",
   "metadata": {},
   "outputs": [],
   "source": []
  }
 ],
 "metadata": {
  "kernelspec": {
   "display_name": "Python 3 (ipykernel)",
   "language": "python",
   "name": "python3"
  },
  "language_info": {
   "codemirror_mode": {
    "name": "ipython",
    "version": 3
   },
   "file_extension": ".py",
   "mimetype": "text/x-python",
   "name": "python",
   "nbconvert_exporter": "python",
   "pygments_lexer": "ipython3",
   "version": "3.9.12"
  }
 },
 "nbformat": 4,
 "nbformat_minor": 5
}
